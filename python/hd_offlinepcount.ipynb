{
 "cells": [
  {
   "cell_type": "code",
   "execution_count": 3,
   "metadata": {},
   "outputs": [],
   "source": [
    "import os\n",
    "\n",
    "import pandas as pd\n",
    "import time\n",
    "import numpy as np\n",
    "import sys\n",
    "import math\n",
    "import datetime\n",
    "\n",
    "direccion = \"../csv/off/raw/pcount_2022-11-07.csv\" #sys.argv[1] #\"csv/off/raw/pcount_2022-10-17.csv\"\n",
    "#time.sleep(10)  #Let some time to get csv\n",
    "\n",
    "\n",
    "contador_raw = pd.read_csv(direccion, delimiter=';')\n",
    "\n",
    "contador_raw['Timestamp'] = contador_raw[\"Fecha\"] + \" \" + contador_raw[\"Hora\"]\n",
    "\n",
    "\n",
    "contador_raw.replace({\"Right2\":\"Right\"},inplace=True)   #Rename sensor Right 2 as Right\n",
    "contador_raw.drop_duplicates(subset=['Timestamp','Sensor'],keep='first',inplace=True) #So if they got medition at the same time we remove\n",
    "\n",
    "def generateTimeSeriesByHour(data, initHour='7:00:00', endHour='21:55:00'):\n",
    "    \"\"\"Función que devuelve una Serie con un Timestamp espaciado en intervalos de 5 minutos dada una hora de comienzo y de fin\"\"\"\n",
    "    date = data[\"Timestamp\"][0].date()\n",
    "    start = str(date) + \" \" + initHour\n",
    "    end = str(date) + \" \" + endHour\n",
    "    timeSeries = pd.Series(pd.date_range(start, end, freq='1T'))\n",
    "\n",
    "    return timeSeries\n",
    "\n",
    "keepalive_t = 30 #Configurado actualmente a 30 segundos\n",
    "intervalo = 60 #Vamos a mirar por minutos\n",
    "kas = intervalo/keepalive_t #Cuantos KeepAlive por minuto\n",
    "\n",
    "def checkKAs(df,inicio,final):\n",
    "    i = 0\n",
    "    \n",
    "    fint = []   #Almacenamos los intervalos donde no haya suficientes keep alive\n",
    "    hora = inicio\n",
    "    #nint = []\n",
    "\n",
    "    while hora < final:\n",
    "        while i <= 59:\n",
    "\n",
    "            auxst = f\"{str(hora).zfill(2)}:{str(i).zfill(2)}:\"\n",
    "            \n",
    "            c = df[df['Timestamp'].str.contains(auxst)]\n",
    "            if len(c) < 2:\n",
    "                fint.append(auxst+\"00\")\n",
    "            \n",
    "            #nint.append(getNSBreak(contador_raw[contador_raw['Sensor']!=\"KeepAlive\"],auxst)) #recuperar con trama = trama y timestamp like (SQL)\n",
    "                \n",
    "            \n",
    "            i += 1\n",
    "        hora += 1\n",
    "        i = 0\n",
    "    \n",
    "    return fint\n",
    "\n",
    "\n",
    "\n",
    "\n",
    "\n",
    "\n",
    "f = checkKAs(contador_raw[contador_raw['Sensor']==\"KeepAlive\"],7,22)\n",
    "\n",
    "contador_raw['Timestamp'] = pd.to_datetime(contador_raw['Timestamp'], dayfirst=True)\n",
    "if len(f) > 0:\n",
    "    print(f\"Hay que recuperar {len(f)} intervalos\")\n",
    "\n",
    "time_list = generateTimeSeriesByHour(contador_raw)\n"
   ]
  },
  {
   "cell_type": "code",
   "execution_count": 4,
   "metadata": {},
   "outputs": [
    {
     "data": {
      "text/plain": [
       "[]"
      ]
     },
     "execution_count": 4,
     "metadata": {},
     "output_type": "execute_result"
    }
   ],
   "source": []
  }
 ],
 "metadata": {
  "kernelspec": {
   "display_name": "Python 3.8.14 64-bit",
   "language": "python",
   "name": "python3"
  },
  "language_info": {
   "codemirror_mode": {
    "name": "ipython",
    "version": 3
   },
   "file_extension": ".py",
   "mimetype": "text/x-python",
   "name": "python",
   "nbconvert_exporter": "python",
   "pygments_lexer": "ipython3",
   "version": "3.8.14"
  },
  "orig_nbformat": 4,
  "vscode": {
   "interpreter": {
    "hash": "df0893f56f349688326838aaeea0de204df53a132722cbd565e54b24a8fec5f6"
   }
  }
 },
 "nbformat": 4,
 "nbformat_minor": 2
}
